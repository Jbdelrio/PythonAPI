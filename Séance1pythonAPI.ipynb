{
 "cells": [
  {
   "cell_type": "markdown",
   "id": "ddefc1a3",
   "metadata": {},
   "source": [
    "# Python API séance 1"
   ]
  },
  {
   "cell_type": "code",
   "execution_count": 3,
   "id": "9c85a8f9",
   "metadata": {},
   "outputs": [],
   "source": [
    "import pandas as pd"
   ]
  },
  {
   "cell_type": "markdown",
   "id": "5c4b0473",
   "metadata": {},
   "source": [
    "Utilisons la bibliothèque requests pour effectuer une requête GET, comme nous l'avons fait dans\n",
    "Postman."
   ]
  },
  {
   "cell_type": "code",
   "execution_count": 4,
   "id": "e9b31d03",
   "metadata": {
    "scrolled": true
   },
   "outputs": [
    {
     "name": "stdout",
     "output_type": "stream",
     "text": [
      "AdoptAPet - Resource to help get pets adopted\n",
      "Axolotl - Collection of axolotl pictures and facts\n",
      "Cat Facts - Daily cat facts\n",
      "Cataas - Cat as a service (cats pictures and gifs)\n",
      "Cats - Pictures of cats from Tumblr\n",
      "Dog Facts - Random dog facts\n",
      "Dog Facts - Random facts of Dogs\n",
      "Dogs - Based on the Stanford Dogs Dataset\n",
      "eBird - Retrieve recent or notable birding observations within a region\n",
      "FishWatch - Information and pictures about individual fish species\n"
     ]
    }
   ],
   "source": [
    "import requests\n",
    "response = requests.get(\"https://api.publicapis.org/entries\")\n",
    "data = response.json()\n",
    "# Imprimer les premiers 10 entrées\n",
    "for entry in data['entries'][:10]:\n",
    "    print(entry['API'], \"-\", entry['Description'])"
   ]
  },
  {
   "cell_type": "markdown",
   "id": "a67ffeb8",
   "metadata": {},
   "source": [
    "Réutilisez une des requêtes que vous avez effectuées dans Postman."
   ]
  },
  {
   "cell_type": "code",
   "execution_count": 5,
   "id": "7ea8925a",
   "metadata": {
    "scrolled": false
   },
   "outputs": [
    {
     "name": "stdout",
     "output_type": "stream",
     "text": [
      "Abstract VAT Validation - Validate VAT numbers and calculate VAT rates\n",
      "Aletheia - Insider trading data, earnings call analysis, financial statements, and more\n",
      "Alpaca - Realtime and historical market data on all US equities and ETFs\n",
      "Alpha Vantage - Realtime and historical stock data\n",
      "apilayer marketstack - Real-Time, Intraday & Historical Market Data API\n",
      "Banco do Brasil - All Banco do Brasil financial transaction APIs\n",
      "Bank Data API - Instant IBAN and SWIFT number validation across the globe\n",
      "Billplz - Payment platform\n",
      "Binlist - Public access to a database of IIN/BIN information\n",
      "Boleto.Cloud - A api to generate boletos in Brazil\n",
      "Citi - All Citigroup account and statement data APIs\n",
      "Econdb - Global macroeconomic data\n",
      "Fed Treasury - U.S. Department of the Treasury Data\n",
      "Finage - Finage is a stock, currency, cryptocurrency, indices, and ETFs real-time & historical data provider\n",
      "Financial Modeling Prep - Realtime and historical stock data\n",
      "Finnhub - Real-Time RESTful APIs and Websocket for Stocks, Currencies, and Crypto\n",
      "FRED - Economic data from the Federal Reserve Bank of St. Louis\n",
      "Front Accounting APIs - Front accounting is multilingual and multicurrency software for small businesses\n",
      "Hotstoks - Stock market data powered by SQL\n",
      "IEX Cloud - Realtime & Historical Stock and Market Data\n",
      "IG - Spreadbetting and CFD Market Data\n",
      "Indian Mutual Fund - Get complete history of India Mutual Funds Data\n",
      "Intrinio - A wide selection of financial data feeds\n",
      "Klarna - Klarna payment and shopping service\n",
      "MercadoPago - Mercado Pago API reference - all the information you need to develop your integrations\n",
      "Mono - Connect with users’ bank accounts and access transaction data in Africa\n",
      "Moov - The Moov API makes it simple for platforms to send, receive, and store money\n",
      "Nordigen - Connect to bank accounts using official bank APIs and get raw transaction data\n",
      "OpenFIGI - Equity, index, futures, options symbology from Bloomberg LP\n",
      "Plaid - Connect with user's bank accounts and access transaction data\n",
      "Polygon - Historical stock market data\n",
      "Portfolio Optimizer - Portfolio analysis and optimization\n",
      "Razorpay IFSC - Indian Financial Systems Code (Bank Branch Codes)\n",
      "Real Time Finance - Websocket API to access realtime stock data\n",
      "SEC EDGAR Data - API to access annual reports of public US companies\n",
      "SmartAPI - Gain access to set of <SmartAPI> and create end-to-end broking services\n",
      "StockData - Real-Time, Intraday & Historical Market Data, News and Sentiment API\n",
      "Styvio - Realtime and historical stock data and current stock sentiment\n",
      "Tax Data API - Instant VAT number and tax validation across the globe\n",
      "Tradier - US equity/option market data (delayed, intraday, historical)\n",
      "Twelve Data - Stock market data (real-time & historical)\n",
      "WallstreetBets - WallstreetBets Stock Comments Sentiment Analysis\n",
      "Yahoo Finance - Real time low latency Yahoo Finance API for stock market, crypto currencies, and currency exchange\n",
      "YNAB - Budgeting & Planning\n",
      "Zoho Books - Online accounting software, built for your business\n"
     ]
    }
   ],
   "source": [
    "response = requests.get(\"https://api.publicapis.org/entries?category=finance\")\n",
    "finance_data = response.json()\n",
    "for entry in finance_data['entries']:\n",
    "    print(entry['API'], \"-\", entry['Description'])"
   ]
  },
  {
   "cell_type": "markdown",
   "id": "3917ae92",
   "metadata": {},
   "source": [
    "Obtenir des informations détaillées sur une cryptomonnaie:"
   ]
  },
  {
   "cell_type": "code",
   "execution_count": 20,
   "id": "d893e7e8",
   "metadata": {},
   "outputs": [
    {
     "name": "stdout",
     "output_type": "stream",
     "text": [
      "Bitcoin\n",
      "Valeur actuelle: 34930 USD\n"
     ]
    }
   ],
   "source": [
    "coin_id = \"bitcoin\" # Remplacez ceci par un autre identifiant si vous le\n",
    "\n",
    "detailed_url = f\"https://api.coingecko.com/api/v3/coins/{coin_id}\"\n",
    "detailed_response = requests.get(detailed_url)\n",
    "coin_details = detailed_response.json()\n",
    "\n",
    "# Imprimer des informations clés\n",
    "print(coin_details['name'])\n",
    "print(\"Valeur actuelle:\", coin_details['market_data']['current_price']\n",
    "['usd'], \"USD\")"
   ]
  },
  {
   "cell_type": "markdown",
   "id": "175af3eb",
   "metadata": {},
   "source": [
    "## Exercice 3.3"
   ]
  },
  {
   "cell_type": "markdown",
   "id": "04c1a799",
   "metadata": {},
   "source": [
    "Volume quotidien moyen du BTC et de l'ETH en USDT, USDC, USD et EUR"
   ]
  },
  {
   "cell_type": "code",
   "execution_count": 1,
   "id": "13724648",
   "metadata": {},
   "outputs": [
    {
     "name": "stdout",
     "output_type": "stream",
     "text": [
      "  Crypto-monnaie Identifiant Devise  Volume quotidien moyen\n",
      "0        Bitcoin     bitcoin    USD             16603016860\n",
      "1        Bitcoin     bitcoin    EUR             15506221566\n",
      "2       Ethereum    ethereum    USD             11202761982\n",
      "3       Ethereum    ethereum    EUR             10462707526\n"
     ]
    }
   ],
   "source": [
    "import requests\n",
    "import pandas as pd\n",
    "\n",
    "# Identifiants des cryptomonnaies\n",
    "coin_ids = [\"bitcoin\", \"ethereum\"]\n",
    "\n",
    "# Devises dans lesquelles vous souhaitez obtenir le volume\n",
    "currencies = [\"usdt\", \"usdc\", \"usd\", \"eur\"]\n",
    "\n",
    "# Initialisation d'une liste vide pour stocker les données\n",
    "data = []\n",
    "\n",
    "for coin_id in coin_ids:\n",
    "    detailed_url = f\"https://api.coingecko.com/api/v3/coins/{coin_id}\"\n",
    "    detailed_response = requests.get(detailed_url)\n",
    "    coin_details = detailed_response.json()\n",
    "\n",
    "    if 'market_data' in coin_details and 'total_volume' in coin_details['market_data']:\n",
    "        for currency in currencies:\n",
    "            # Utilisez des clés en minuscules pour accéder aux volumes\n",
    "            currency_lower = currency.lower()\n",
    "            if currency_lower in coin_details['market_data']['total_volume']:\n",
    "                daily_volume = coin_details['market_data']['total_volume'][currency_lower]\n",
    "                data.append({\n",
    "                    'Crypto-monnaie': coin_details['name'],\n",
    "                    'Identifiant': coin_id,\n",
    "                    'Devise': currency.upper(),\n",
    "                    'Volume quotidien moyen': daily_volume\n",
    "                })\n",
    "\n",
    "# Création d'un DataFrame à partir des données\n",
    "df = pd.DataFrame(data)\n",
    "\n",
    "# Affichage du DataFrame\n",
    "print(df)\n"
   ]
  },
  {
   "cell_type": "markdown",
   "id": "810aa402",
   "metadata": {},
   "source": [
    "Même donnée pour les 10 cryptomonnaies les plus liquides après BTC et ETH"
   ]
  },
  {
   "cell_type": "code",
   "execution_count": 2,
   "id": "700699ec",
   "metadata": {},
   "outputs": [
    {
     "name": "stdout",
     "output_type": "stream",
     "text": [
      "XRP (ripple): Market Cap: 37002301932\n",
      "USDC (usd-coin): Market Cap: 24278587360\n",
      "Solana (solana): Market Cap: 18080830106\n",
      "Lido Staked Ether (staked-ether): Market Cap: 16953109724\n",
      "Cardano (cardano): Market Cap: 12467605272\n",
      "Dogecoin (dogecoin): Market Cap: 10691913728\n",
      "TRON (tron): Market Cap: 8682845708\n",
      "Chainlink (chainlink): Market Cap: 7858465534\n",
      "Polygon (matic-network): Market Cap: 7370371644\n",
      "Polkadot (polkadot): Market Cap: 6473815296\n"
     ]
    }
   ],
   "source": [
    "# Récupération de la liste des cryptomonnaies classées par capitalisation boursière\n",
    "list_url = \"https://api.coingecko.com/api/v3/coins/markets\"\n",
    "list_params = {\n",
    "    'vs_currency': 'usd',\n",
    "    'order': 'market_cap_desc',\n",
    "    'per_page': 100,  # Vous pouvez augmenter cela si nécessaire\n",
    "    'page': 1\n",
    "}\n",
    "list_response = requests.get(list_url, params=list_params)\n",
    "list_data = list_response.json()\n",
    "\n",
    "# Exclure BTC et ETH de la liste\n",
    "filtered_list = [entry for entry in list_data if entry['id'] not in coin_ids]\n",
    "\n",
    "# Sélectionner les 10 premières cryptomonnaies après BTC et ETH\n",
    "top_10 = filtered_list[2:12]  # Les indices 2 à 11 inclus\n",
    "\n",
    "# Affichage des 10 premières cryptomonnaies après BTC et ETH\n",
    "for entry in top_10:\n",
    "    print(f\"{entry['name']} ({entry['id']}): Market Cap: {entry['market_cap']}\")"
   ]
  },
  {
   "cell_type": "code",
   "execution_count": 3,
   "id": "ad757b33",
   "metadata": {
    "scrolled": false
   },
   "outputs": [
    {
     "name": "stdout",
     "output_type": "stream",
     "text": [
      "Les trois paires les plus liquides en BTC :\n",
      "1. Bitcoin - Volume : 468036 BTC\n",
      "2. Ethereum - Volume : 315888 BTC\n",
      "3. Tether - Volume : 486140 BTC\n",
      "\n",
      "Les trois paires les plus liquides en ETH :\n",
      "1. Bitcoin - Volume : 8737762 ETH\n",
      "2. Ethereum - Volume : 5897307 ETH\n",
      "3. Tether - Volume : 9076884 ETH\n",
      "\n",
      "Les trois paires les plus liquides en ETH :\n",
      "1. Bitcoin - Volume : 8737762 ETH\n",
      "2. Ethereum - Volume : 5897307 ETH\n",
      "3. Tether - Volume : 9076884 ETH\n"
     ]
    }
   ],
   "source": [
    "# Obtenir les données de marché actuelles pour les paires de trading\n",
    "url_markets = \"https://api.coingecko.com/api/v3/coins/markets\"\n",
    "params = {\n",
    "    \"vs_currency\": \"btc\",  # Cotation en BTC\n",
    "    \"order\": \"trade_volume_desc\",\n",
    "    \"per_page\": 3,  # Les 3 premières paires\n",
    "    \"page\": 1,\n",
    "    \"sparkline\": False,\n",
    "}\n",
    "response_btc = requests.get(url_markets, params=params)\n",
    "top_markets_btc = response_btc.json()\n",
    "\n",
    "# Obtenir les données de marché actuelles pour les paires de trading cotées en ETH\n",
    "params[\"vs_currency\"] = \"eth\"  # Cotation en ETH\n",
    "response_eth = requests.get(url_markets, params=params)\n",
    "top_markets_eth = response_eth.json()\n",
    "\n",
    "# Afficher les trois paires les plus liquides en BTC\n",
    "print(\"Les trois paires les plus liquides en BTC :\")\n",
    "for i, market in enumerate(top_markets_btc):\n",
    "    print(f\"{i + 1}. {market['name']} - Volume : {market['total_volume']} BTC\")\n",
    "\n",
    "# Afficher les trois paires les plus liquides en ETH\n",
    "print(\"\\nLes trois paires les plus liquides en ETH :\")\n",
    "for i, market in enumerate(top_markets_eth):\n",
    "    print(f\"{i + 1}. {market['name']} - Volume : {market['total_volume']} ETH\")\n",
    "\n",
    "# Afficher les trois stablecoins les plus liquides comme devises de cotation, avec volume\n",
    "print(\"\\nLes trois paires les plus liquides en ETH :\")\n",
    "for i, market in enumerate(top_markets_eth):\n",
    "    print(f\"{i + 1}. {market['name']} - Volume : {market['total_volume']} ETH\")"
   ]
  },
  {
   "cell_type": "markdown",
   "id": "705fe03f",
   "metadata": {},
   "source": [
    "Sur CoinGecko j'ai pris les trois stablescoins avec le volume le plus important"
   ]
  },
  {
   "cell_type": "code",
   "execution_count": 6,
   "id": "791f416b",
   "metadata": {},
   "outputs": [
    {
     "name": "stdout",
     "output_type": "stream",
     "text": [
      "   Crypto                                       Volume total\n",
      "0  Tether  {'aed': 63207615683, 'ars': 6022735336273, 'au...\n",
      "1    USDC  {'aed': 23515023565, 'ars': 2240722966682, 'au...\n",
      "2    BUSD  {'aed': 12574867846, 'ars': 1198246521329, 'au...\n"
     ]
    }
   ],
   "source": [
    "\n",
    "import time\n",
    "import pandas as pd  # Importez la bibliothèque pandas\n",
    "\n",
    "# Créez un dictionnaire pour stocker les informations sur les cryptomonnaies\n",
    "crypto_data = {\n",
    "    \"Tether\": {\n",
    "        \"id\": \"tether\",\n",
    "        \"symbol\": \"USDT\",\n",
    "        # ... (les autres informations)\n",
    "        \"total_volume\": 0,  # Volume total initial\n",
    "    },\n",
    "    \"USDC\": {\n",
    "        \"id\": \"usd-coin\",\n",
    "        \"symbol\": \"USDC\",\n",
    "        # ... (les autres informations)\n",
    "        \"total_volume\": 0,  # Volume total initial\n",
    "    },\n",
    "    \"BUSD\": {\n",
    "        \"id\": \"binance-usd\",\n",
    "        \"symbol\": \"BUSD\",\n",
    "        # ... (les autres informations)\n",
    "        \"total_volume\": 0,  # Volume total initial\n",
    "    }\n",
    "}\n",
    "# Initialisez le volume total à partir de la requête API\n",
    "for crypto_name, crypto_info in crypto_data.items():\n",
    "    url = f\"https://api.coingecko.com/api/v3/coins/{crypto_info['id']}\"\n",
    "    response = requests.get(url)\n",
    "    data = response.json()\n",
    "    initial_total_volume = data.get(\"market_data\", {}).get(\"total_volume\", 0)\n",
    "    crypto_info[\"total_volume\"] = initial_total_volume\n",
    "\n",
    "# Créez un DataFrame vide pour stocker les volumes actualisés\n",
    "columns = [\"Crypto\", \"Volume total\"]\n",
    "crypto_df = pd.DataFrame(columns=columns)\n",
    "\n",
    "#while True:  # Boucle infinie pour actualiser le volume\n",
    "for crypto_name, crypto_info in crypto_data.items():\n",
    "    # Effectuez une requête API pour obtenir le volume actuel\n",
    "    url = f\"https://api.coingecko.com/api/v3/coins/{crypto_info['id']}\"\n",
    "    response = requests.get(url)\n",
    "    data = response.json()\n",
    "    new_total_volume = data.get(\"market_data\", {}).get(\"total_volume\", 0)\n",
    "\n",
    "    # Mettez à jour le volume total dans le dictionnaire\n",
    "    crypto_info[\"total_volume\"] = new_total_volume\n",
    "\n",
    "# Ajoutez les volumes actualisés au DataFrame\n",
    "for crypto_name, crypto_info in crypto_data.items():\n",
    "    crypto_df = crypto_df.append({\"Crypto\": crypto_name, \"Volume total\": crypto_info[\"total_volume\"]}, ignore_index=True)\n",
    "\n",
    "# Affichez le DataFrame\n",
    "print(crypto_df)\n",
    "\n",
    "#time.sleep(600)  # Pause de 10 minutes avant la prochaine actualisation\n"
   ]
  },
  {
   "cell_type": "markdown",
   "id": "78021e72",
   "metadata": {},
   "source": [
    "Au vue de la volatilité du marché des cryptomonnaies, il est plus cohérent de s'intéresser à des périodes courtes. Les performances passées n'expliquent pas les performances futures"
   ]
  }
 ],
 "metadata": {
  "kernelspec": {
   "display_name": "Python 3 (ipykernel)",
   "language": "python",
   "name": "python3"
  },
  "language_info": {
   "codemirror_mode": {
    "name": "ipython",
    "version": 3
   },
   "file_extension": ".py",
   "mimetype": "text/x-python",
   "name": "python",
   "nbconvert_exporter": "python",
   "pygments_lexer": "ipython3",
   "version": "3.9.7"
  }
 },
 "nbformat": 4,
 "nbformat_minor": 5
}
